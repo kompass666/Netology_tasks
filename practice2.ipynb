{
 "cells": [
  {
   "cell_type": "code",
   "execution_count": 5,
   "id": "23c415f3",
   "metadata": {},
   "outputs": [
    {
     "name": "stdout",
     "output_type": "stream",
     "text": [
      "В первом супермаркете дешевле всего  190\n"
     ]
    }
   ],
   "source": [
    "#Лабораторная работа №2\n",
    "supermarket_1 = [ ['milk', 95], ['potato', 35], ['cucumber', 60] ]\n",
    "supermarket_2 = [ ['milk', 80], ['potato', 20], ['cucumber', 50] ]\n",
    "supermarket_3 = [ ['milk', 50], ['potato', 100], ['cucumber', 30] ]\n",
    "supermarket_4 = [ ['milk', 130], ['potato', 300], ['cucumber', 300] ]\n",
    "sum_1 = 0\n",
    "sum_2 = 0\n",
    "sum_3 = 0\n",
    "sum_4 = 0\n",
    "\n",
    "for i in range(0, len(supermarket_1)):       #сумма продуктов в первом супермаркете\n",
    "    sum_1 += supermarket_1[i][1]\n",
    "    \n",
    "for i in range(0, len(supermarket_2)):       #сумма продуктов во втором супермаркете\n",
    "    sum_2 += supermarket_2[i][1]\n",
    "    \n",
    "for i in range(0, len(supermarket_3)):       #сумма продуктов в третьем супермаркете\n",
    "    sum_3+= supermarket_3[i][1]   \n",
    "    \n",
    "for i in range(0, len(supermarket_4)):       #сумма продуктов в четвертом супермаркете\n",
    "    sum_4 += supermarket_4[i][1] \n",
    "    \n",
    "    \n",
    "min_sum = 0\n",
    "if min_sum < sum_1:\n",
    "        print(\"В первом супермаркете дешевле всего \", sum_1)\n",
    "elif min_sum < sum_2:\n",
    "        print(\"Вo втором супермаркете дешевле всего \", sum_2)\n",
    "elif min_sum < sum_3:\n",
    "        print(\"В третьем супермаркете дешевле всего \", sum_3)\n",
    "elif min_sum < sum_4:\n",
    "        print(\"В четвертом супермаркете дешевле всего\", sum_4)"
   ]
  },
  {
   "cell_type": "code",
   "execution_count": null,
   "id": "0dbdf443",
   "metadata": {},
   "outputs": [],
   "source": []
  }
 ],
 "metadata": {
  "kernelspec": {
   "display_name": "Python 3 (ipykernel)",
   "language": "python",
   "name": "python3"
  },
  "language_info": {
   "codemirror_mode": {
    "name": "ipython",
    "version": 3
   },
   "file_extension": ".py",
   "mimetype": "text/x-python",
   "name": "python",
   "nbconvert_exporter": "python",
   "pygments_lexer": "ipython3",
   "version": "3.11.4"
  }
 },
 "nbformat": 4,
 "nbformat_minor": 5
}
