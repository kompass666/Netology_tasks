{
 "cells": [
  {
   "cell_type": "code",
   "execution_count": 1,
   "id": "8ab57823",
   "metadata": {},
   "outputs": [
    {
     "name": "stdout",
     "output_type": "stream",
     "text": [
      "Insert: ggkgg\n",
      "k\n"
     ]
    }
   ],
   "source": [
    "#Задание №1\n",
    "string_1 = input(\"Insert: \")\n",
    "pointer_1 = len(string_1) // 2 - 1 #значение середины строки для четного кол-ва\n",
    "pointer_2 = len(string_1) // 2 #значение середины строки для нечетного кол-ва\n",
    "\n",
    "if len(string_1) % 2 == 0:\n",
    "    print(string_1[pointer_1], string_1[pointer_1 + 1])\n",
    "else:\n",
    "    print(string_1[pointer_2])"
   ]
  },
  {
   "cell_type": "code",
   "execution_count": null,
   "id": "82b86753",
   "metadata": {},
   "outputs": [],
   "source": []
  }
 ],
 "metadata": {
  "kernelspec": {
   "display_name": "Python 3 (ipykernel)",
   "language": "python",
   "name": "python3"
  },
  "language_info": {
   "codemirror_mode": {
    "name": "ipython",
    "version": 3
   },
   "file_extension": ".py",
   "mimetype": "text/x-python",
   "name": "python",
   "nbconvert_exporter": "python",
   "pygments_lexer": "ipython3",
   "version": "3.11.4"
  }
 },
 "nbformat": 4,
 "nbformat_minor": 5
}
